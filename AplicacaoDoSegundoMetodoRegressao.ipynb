{
  "nbformat": 4,
  "nbformat_minor": 0,
  "metadata": {
    "colab": {
      "provenance": []
    },
    "kernelspec": {
      "name": "python3",
      "display_name": "Python 3"
    },
    "language_info": {
      "name": "python"
    }
  },
  "cells": [
    {
      "cell_type": "markdown",
      "source": [
        "Para realizar o método KNN, começamos importando as bibliotecas que serão utilizadas.\n",
        "Em seguida, a base também é importada através das funções de read do pandas e upload do google colab.\n",
        "Após isso, tratamos novamente os dados pois a base já foi previamente formatada para ficar de acordo com a utilização com os métodos de regressão, porém algumas linhas ainda contêm dados nulos e não queremos, para este método, utilizar o campo Rank, portanto formatamos as colunas que contêm valores nulos e removemos a coluna Rank do DataSet.\n",
        "Após isso, inicializamos e dividimos os dados em dados de teste e treino, e configuramos a forma de randomização da escolha dos dados, bem como a quantidade de dados a ser utilizado para teste.\n",
        "Após isso, configuramos o modelo de de predição, que no caso sera o KNN, e por fim realizamos o treino a partir dos dados alocados para tal.\n",
        "Feito o treinamento, checamos a precisão do algorítmo quanto a quantidade de acertos e erros. Podemos notar que a porcentagem de acerto tende a ser muito baixo, e isso já é esperado, pois o algorítmo só contará uma previsão como \"correta\" caso acerte o exato valor esperado da variável Target, então mesmo se errar por 0.01, ainda será contado como erro.\n",
        "Por fim, verificamos os valores de erro de acordo com as métricas matemáticas de RMSE e MAE.\n",
        "Nota-se que devido à volatilidade de valores da variável target, que varia de 82.74 à 0.01, a variável target se torna muito mais difícil de ser prevista com exatidão pelo algorítmo já por padrão, e somado ào problema com o método de regressão já citado anteriormente, a precisão se torna ainda menor."
      ],
      "metadata": {
        "id": "wT66BXSzSxPu"
      }
    },
    {
      "cell_type": "code",
      "execution_count": 50,
      "metadata": {
        "colab": {
          "base_uri": "https://localhost:8080/"
        },
        "id": "bA0fHfG5MLbY",
        "outputId": "77d5c03d-84f8-4055-bba5-83e8de8936e9"
      },
      "outputs": [
        {
          "output_type": "stream",
          "name": "stdout",
          "text": [
            "0.03465793123914507\n",
            "3.47%\n",
            "RMSE: 1.772966074831234\n",
            "MAE: 0.5610288127922763\n",
            "0.5381939415882211\n",
            "0        82.74\n",
            "1        40.24\n",
            "2        35.82\n",
            "3        33.00\n",
            "4        31.37\n",
            "         ...  \n",
            "16567     0.01\n",
            "16568     0.01\n",
            "16569     0.01\n",
            "16570     0.01\n",
            "16571     0.01\n",
            "Name: Global_Sales, Length: 16572, dtype: float64\n"
          ]
        }
      ],
      "source": [
        "# Importing all required libraries and uploading the csv file.\n",
        "import pandas as pd\n",
        "import numpy as np\n",
        "from sklearn.neighbors import KNeighborsRegressor\n",
        "from sklearn import metrics\n",
        "from sklearn.model_selection import train_test_split\n",
        "from google.colab import files\n",
        "#uploaded = files.upload()\n",
        "df = pd.read_csv('DataSet Games real.csv')\n",
        "\n",
        "# Droping ad formatting columns with default values since we have some NaN values\n",
        "df.columns\n",
        "df['Publisher'] = df['Publisher'].fillna(0)\n",
        "df['Year'] = df['Year'].fillna(2000)\n",
        "df.drop('Rank',axis=1,inplace=True)\n",
        "X = df[['Platform', 'Year', 'Genre', 'Publisher']]\n",
        "y = df['Global_Sales']\n",
        "\n",
        "# Setup and split of variables for the test and creation of KNN model test\n",
        "X_train, X_test, y_train, y_test = train_test_split(X,y,test_size=0.4, random_state=5)\n",
        "model = KNeighborsRegressor(n_neighbors=3)\n",
        "model.fit(X_train,y_train)\n",
        "\n",
        "# Accuracy showcase. Note that due to the nature of the test, the accurace is expected to be very low.\n",
        "precisao = model.score(X_test,y_test)\n",
        "print(precisao)\n",
        "precisao = str(round(model.score(X_test,y_test) * 100, 2))+\"%\"\n",
        "print(precisao)\n",
        "\n",
        "# Printing the metrics of model accurace.\n",
        "y_pred = model.predict(X_test)\n",
        "print('RMSE:', np.sqrt(metrics.mean_squared_error(y_test, y_pred)))\n",
        "print('MAE:', metrics.mean_absolute_error(y_test, y_pred))\n",
        "print(df['Global_Sales'].mean())\n",
        "print(df['Global_Sales'])"
      ]
    }
  ]
}
