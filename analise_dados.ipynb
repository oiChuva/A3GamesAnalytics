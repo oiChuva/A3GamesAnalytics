{
 "cells": [
  {
   "cell_type": "markdown",
   "metadata": {},
   "source": [
    "A biblioteca openpyxl é a mais indicada para manipulação de dados em planilhas do Excel.\n",
    "\n",
    "Nessa biblioteca, os arquivos são tratadas como Workbooks.\n",
    "\n",
    "Para carregar um arquivo Excel é necessário módulo load_workbook.\n",
    "\n",
    "A variável sheet_name diz respeito ao nome da planilha que será manipulada.\n",
    "\n",
    "Para obter os valores de uma célula é necessário o módulo cell da openpyxl. Caso o contrário, ao acessar os valores de uma célula seria retornado a class (classe) do objeto."
   ]
  },
  {
   "cell_type": "code",
   "execution_count": 3,
   "metadata": {},
   "outputs": [],
   "source": [
    "from openpyxl import Workbook, load_workbook\n",
    "from openpyxl.cell import Cell\n",
    "\n",
    "workbook: Workbook = load_workbook(\"C:/Users/Rubem/Downloads/DataSetFormatted.xlsx\")\n",
    "sheet_name = \"DataSetFormatted\""
   ]
  },
  {
   "cell_type": "markdown",
   "metadata": {},
   "source": [
    "Para realizar a análise dos dados, as categorias foram armazenadas em listas, onde serão utilizadas para contabilizar a quantidade que aparecem e média, para assim determinar quais são as mais relevantes.\n",
    "\n",
    "Neste projeto, as categorias escolhidas foram plataformas (platforms), gênero do jogo (genres), publicadoras (publishers).\n",
    "\n",
    "Essas listas foram transformadas em conjuntos de set(), pois não permitem duplicatas, facilitando a contagem de variáveis distintas entre si."
   ]
  },
  {
   "cell_type": "code",
   "execution_count": 4,
   "metadata": {},
   "outputs": [],
   "source": [
    "worksheet = workbook[sheet_name]\n",
    "row = tuple[Cell]\n",
    "\n",
    "platforms = list()\n",
    "genres = list()\n",
    "publishers = list()\n",
    "\n",
    "platforms_set = set()\n",
    "genres_set = set()\n",
    "publishers_set = set()"
   ]
  },
  {
   "cell_type": "markdown",
   "metadata": {},
   "source": [
    "Essa função tem como objetivo extrair as ocorrências de cada variável do dataset, a fim de determinar o número de vezes que aparecem.\n",
    "\n",
    "Foram utilizados delimitadores (min_col, max_col, min_row) para especificar a coluna exata onde se encontram os dados de cada variável."
   ]
  },
  {
   "cell_type": "code",
   "execution_count": 5,
   "metadata": {},
   "outputs": [],
   "source": [
    "def to_colonize():\n",
    "  for row in worksheet.iter_rows(min_col=6, max_col=6, min_row=3):\n",
    "\n",
    "    for cell in row:\n",
    "        platforms.append(cell.value)\n",
    "\n",
    "    for i in platforms:\n",
    "      platforms_set.add(i)\n",
    "\n",
    "  for row in worksheet.iter_rows(min_col=8, max_col=8, min_row=3):\n",
    "\n",
    "    for cell in row:\n",
    "      genres.append(cell.value)\n",
    "\n",
    "    for i in genres:\n",
    "      genres_set.add(i)\n",
    "\n",
    "  for row in worksheet.iter_rows(min_col=9, max_col=9, min_row=3):\n",
    "\n",
    "    for cell in row:\n",
    "      publishers.append(cell.value)\n",
    "\n",
    "    for i in publishers:\n",
    "      publishers_set.add(i)"
   ]
  },
  {
   "cell_type": "markdown",
   "metadata": {},
   "source": [
    "Essa função tem por objetivo a contagem de ocorrência de cada dado.\n",
    "\n",
    "A partir dessa contagem será realizado os cálculos da média aritmética e moda para determinar a relevância de cada variável.\n",
    "\n",
    "Foi criado um dicionário (dict) para abrigar o resultado dessa contagem."
   ]
  },
  {
   "cell_type": "code",
   "execution_count": 6,
   "metadata": {},
   "outputs": [],
   "source": [
    "def to_count(list: str, set: str) -> dict:\n",
    "  dict = {}\n",
    "  count = 0\n",
    "\n",
    "  for i in set:\n",
    "    count = list.count(i)\n",
    "    dict.update({str(i): count})\n",
    "\n",
    "  return dict"
   ]
  },
  {
   "cell_type": "markdown",
   "metadata": {},
   "source": [
    "Execução do algoritmo."
   ]
  },
  {
   "cell_type": "code",
   "execution_count": 8,
   "metadata": {},
   "outputs": [],
   "source": [
    "if __name__ == \"__main__\":\n",
    "  to_colonize()\n",
    "\n",
    "  dicio = to_count(platforms, platforms_set)\n",
    "\n",
    "\n",
    "  print(dicio)\n",
    "  print(platforms.count(\"Wii\"))\n",
    "\n",
    "  # dict_platform = contabilizar(platforms, platforms_set)\n",
    "\n",
    "  # for k, v in dict_platform:\n",
    "  #   print(k, v)"
   ]
  }
 ],
 "metadata": {
  "kernelspec": {
   "display_name": "Python 3 (ipykernel)",
   "language": "python",
   "name": "python3"
  },
  "language_info": {
   "codemirror_mode": {
    "name": "ipython",
    "version": 3
   },
   "file_extension": ".py",
   "mimetype": "text/x-python",
   "name": "python",
   "nbconvert_exporter": "python",
   "pygments_lexer": "ipython3",
   "version": "3.11.5"
  }
 },
 "nbformat": 4,
 "nbformat_minor": 2
}
