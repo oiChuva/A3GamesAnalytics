{
  "nbformat": 4,
  "nbformat_minor": 0,
  "metadata": {
    "colab": {
      "provenance": []
    },
    "kernelspec": {
      "name": "python3",
      "display_name": "Python 3"
    },
    "language_info": {
      "name": "python"
    }
  },
  "cells": [
    {
      "cell_type": "markdown",
      "source": [
        "Primeiro, iremos importar a library do pandas e fazer o upload do arquivo desejado, bem como lê-lo.\n",
        "Após isto, usamos variáveis chamadas grouped_data, grouped_data_genre e grouped_data_publisher para agrupar todos os valores de Global_Sales de acordo com a plataforma, depois de acordo com o Genero e por fim de acordo com a Publisher, respectivamente. Atribuímos então o valor da soma dos valores de Global_Sales agrupado por cada uma das 3 variáveis bem como um count da quantidade de valores existentes de cada um em variáveis 'sum' e 'count' para cada um."
      ],
      "metadata": {
        "id": "pDDBb1vK22e4"
      }
    },
    {
      "cell_type": "code",
      "execution_count": 22,
      "metadata": {
        "colab": {
          "base_uri": "https://localhost:8080/",
          "height": 73
        },
        "id": "HiodhEAxmEhh",
        "outputId": "fcae7290-7a8f-46e2-84f0-b4aee1307e80"
      },
      "outputs": [
        {
          "output_type": "display_data",
          "data": {
            "text/plain": [
              "<IPython.core.display.HTML object>"
            ],
            "text/html": [
              "\n",
              "     <input type=\"file\" id=\"files-adc50415-6d3c-458f-8b00-184441a71714\" name=\"files[]\" multiple disabled\n",
              "        style=\"border:none\" />\n",
              "     <output id=\"result-adc50415-6d3c-458f-8b00-184441a71714\">\n",
              "      Upload widget is only available when the cell has been executed in the\n",
              "      current browser session. Please rerun this cell to enable.\n",
              "      </output>\n",
              "      <script>// Copyright 2017 Google LLC\n",
              "//\n",
              "// Licensed under the Apache License, Version 2.0 (the \"License\");\n",
              "// you may not use this file except in compliance with the License.\n",
              "// You may obtain a copy of the License at\n",
              "//\n",
              "//      http://www.apache.org/licenses/LICENSE-2.0\n",
              "//\n",
              "// Unless required by applicable law or agreed to in writing, software\n",
              "// distributed under the License is distributed on an \"AS IS\" BASIS,\n",
              "// WITHOUT WARRANTIES OR CONDITIONS OF ANY KIND, either express or implied.\n",
              "// See the License for the specific language governing permissions and\n",
              "// limitations under the License.\n",
              "\n",
              "/**\n",
              " * @fileoverview Helpers for google.colab Python module.\n",
              " */\n",
              "(function(scope) {\n",
              "function span(text, styleAttributes = {}) {\n",
              "  const element = document.createElement('span');\n",
              "  element.textContent = text;\n",
              "  for (const key of Object.keys(styleAttributes)) {\n",
              "    element.style[key] = styleAttributes[key];\n",
              "  }\n",
              "  return element;\n",
              "}\n",
              "\n",
              "// Max number of bytes which will be uploaded at a time.\n",
              "const MAX_PAYLOAD_SIZE = 100 * 1024;\n",
              "\n",
              "function _uploadFiles(inputId, outputId) {\n",
              "  const steps = uploadFilesStep(inputId, outputId);\n",
              "  const outputElement = document.getElementById(outputId);\n",
              "  // Cache steps on the outputElement to make it available for the next call\n",
              "  // to uploadFilesContinue from Python.\n",
              "  outputElement.steps = steps;\n",
              "\n",
              "  return _uploadFilesContinue(outputId);\n",
              "}\n",
              "\n",
              "// This is roughly an async generator (not supported in the browser yet),\n",
              "// where there are multiple asynchronous steps and the Python side is going\n",
              "// to poll for completion of each step.\n",
              "// This uses a Promise to block the python side on completion of each step,\n",
              "// then passes the result of the previous step as the input to the next step.\n",
              "function _uploadFilesContinue(outputId) {\n",
              "  const outputElement = document.getElementById(outputId);\n",
              "  const steps = outputElement.steps;\n",
              "\n",
              "  const next = steps.next(outputElement.lastPromiseValue);\n",
              "  return Promise.resolve(next.value.promise).then((value) => {\n",
              "    // Cache the last promise value to make it available to the next\n",
              "    // step of the generator.\n",
              "    outputElement.lastPromiseValue = value;\n",
              "    return next.value.response;\n",
              "  });\n",
              "}\n",
              "\n",
              "/**\n",
              " * Generator function which is called between each async step of the upload\n",
              " * process.\n",
              " * @param {string} inputId Element ID of the input file picker element.\n",
              " * @param {string} outputId Element ID of the output display.\n",
              " * @return {!Iterable<!Object>} Iterable of next steps.\n",
              " */\n",
              "function* uploadFilesStep(inputId, outputId) {\n",
              "  const inputElement = document.getElementById(inputId);\n",
              "  inputElement.disabled = false;\n",
              "\n",
              "  const outputElement = document.getElementById(outputId);\n",
              "  outputElement.innerHTML = '';\n",
              "\n",
              "  const pickedPromise = new Promise((resolve) => {\n",
              "    inputElement.addEventListener('change', (e) => {\n",
              "      resolve(e.target.files);\n",
              "    });\n",
              "  });\n",
              "\n",
              "  const cancel = document.createElement('button');\n",
              "  inputElement.parentElement.appendChild(cancel);\n",
              "  cancel.textContent = 'Cancel upload';\n",
              "  const cancelPromise = new Promise((resolve) => {\n",
              "    cancel.onclick = () => {\n",
              "      resolve(null);\n",
              "    };\n",
              "  });\n",
              "\n",
              "  // Wait for the user to pick the files.\n",
              "  const files = yield {\n",
              "    promise: Promise.race([pickedPromise, cancelPromise]),\n",
              "    response: {\n",
              "      action: 'starting',\n",
              "    }\n",
              "  };\n",
              "\n",
              "  cancel.remove();\n",
              "\n",
              "  // Disable the input element since further picks are not allowed.\n",
              "  inputElement.disabled = true;\n",
              "\n",
              "  if (!files) {\n",
              "    return {\n",
              "      response: {\n",
              "        action: 'complete',\n",
              "      }\n",
              "    };\n",
              "  }\n",
              "\n",
              "  for (const file of files) {\n",
              "    const li = document.createElement('li');\n",
              "    li.append(span(file.name, {fontWeight: 'bold'}));\n",
              "    li.append(span(\n",
              "        `(${file.type || 'n/a'}) - ${file.size} bytes, ` +\n",
              "        `last modified: ${\n",
              "            file.lastModifiedDate ? file.lastModifiedDate.toLocaleDateString() :\n",
              "                                    'n/a'} - `));\n",
              "    const percent = span('0% done');\n",
              "    li.appendChild(percent);\n",
              "\n",
              "    outputElement.appendChild(li);\n",
              "\n",
              "    const fileDataPromise = new Promise((resolve) => {\n",
              "      const reader = new FileReader();\n",
              "      reader.onload = (e) => {\n",
              "        resolve(e.target.result);\n",
              "      };\n",
              "      reader.readAsArrayBuffer(file);\n",
              "    });\n",
              "    // Wait for the data to be ready.\n",
              "    let fileData = yield {\n",
              "      promise: fileDataPromise,\n",
              "      response: {\n",
              "        action: 'continue',\n",
              "      }\n",
              "    };\n",
              "\n",
              "    // Use a chunked sending to avoid message size limits. See b/62115660.\n",
              "    let position = 0;\n",
              "    do {\n",
              "      const length = Math.min(fileData.byteLength - position, MAX_PAYLOAD_SIZE);\n",
              "      const chunk = new Uint8Array(fileData, position, length);\n",
              "      position += length;\n",
              "\n",
              "      const base64 = btoa(String.fromCharCode.apply(null, chunk));\n",
              "      yield {\n",
              "        response: {\n",
              "          action: 'append',\n",
              "          file: file.name,\n",
              "          data: base64,\n",
              "        },\n",
              "      };\n",
              "\n",
              "      let percentDone = fileData.byteLength === 0 ?\n",
              "          100 :\n",
              "          Math.round((position / fileData.byteLength) * 100);\n",
              "      percent.textContent = `${percentDone}% done`;\n",
              "\n",
              "    } while (position < fileData.byteLength);\n",
              "  }\n",
              "\n",
              "  // All done.\n",
              "  yield {\n",
              "    response: {\n",
              "      action: 'complete',\n",
              "    }\n",
              "  };\n",
              "}\n",
              "\n",
              "scope.google = scope.google || {};\n",
              "scope.google.colab = scope.google.colab || {};\n",
              "scope.google.colab._files = {\n",
              "  _uploadFiles,\n",
              "  _uploadFilesContinue,\n",
              "};\n",
              "})(self);\n",
              "</script> "
            ]
          },
          "metadata": {}
        },
        {
          "output_type": "stream",
          "name": "stdout",
          "text": [
            "Saving DataSetFormatted Excel.xlsx to DataSetFormatted Excel.xlsx\n"
          ]
        }
      ],
      "source": [
        "import pandas as pd\n",
        "\n",
        "from google.colab import files\n",
        "uploaded = files.upload()\n",
        "df = pd.read_excel('DataSetFormatted Excel.xlsx', skiprows=1)\n",
        "\n",
        "# Group the Global_Sales by Platform, Genre and Publisher and get the sum and count for each of them\n",
        "grouped_data_platform = df.groupby('Platform')['Global_Sales'].agg(['sum', 'count']).reset_index()\n",
        "grouped_data_genre = df.groupby('Genre')['Global_Sales'].agg(['sum', 'count']).reset_index()\n",
        "grouped_data_publisher = df.groupby('Publisher')['Global_Sales'].agg(['sum', 'count']).reset_index()\n"
      ]
    },
    {
      "cell_type": "markdown",
      "source": [
        "Agora, vamos calcular a média dos valores do Global_Sales utilizando os valores de 'sum' e 'count' gerados anteriormente, e atribuiremos à mean_value_x (onde x é a coluna da tabela em questão. Decidimos deixar os nomes neste formato para melhor visualização e entendimento.). Após isto, iremos adicionar estas médias como campos em nossa tabela df."
      ],
      "metadata": {
        "id": "6RQw3Sa85RNy"
      }
    },
    {
      "cell_type": "code",
      "source": [
        "# Calculate the mean value for each group\n",
        "grouped_data_platform['mean_value_platform'] = grouped_data_platform['sum'] / grouped_data_platform['count']\n",
        "grouped_data_genre['mean_value_genre'] = grouped_data_genre['sum'] / grouped_data_genre['count']\n",
        "grouped_data_publisher['mean_value_publisher'] = grouped_data_publisher['sum'] / grouped_data_publisher['count']\n",
        "\n",
        "df = pd.merge(df, grouped_data_platform[['Platform', 'mean_value_platform']], on='Platform', how='left')\n",
        "df = pd.merge(df, grouped_data_genre[['Genre', 'mean_value_genre']], on='Genre', how='left')\n",
        "df = pd.merge(df, grouped_data_publisher[['Publisher', 'mean_value_publisher']], on='Publisher', how='left')"
      ],
      "metadata": {
        "id": "D3QGjep05Qh-"
      },
      "execution_count": 23,
      "outputs": []
    },
    {
      "cell_type": "markdown",
      "source": [
        "Adicionado os campos, vamos então substituir os valores das colunas desejadas com as médias encontradas. Ainda, vamos formatar estes valores para 2 casas decimais (nota-se que também faremos isso com a coluna Global_Sales)"
      ],
      "metadata": {
        "id": "mldByBJG5lNJ"
      }
    },
    {
      "cell_type": "code",
      "source": [
        "# Replace the columns values with the corresponding 'mean_value'\n",
        "df['Platform'] = df['mean_value_platform'].round(2)\n",
        "df['Genre'] = df['mean_value_genre'].round(2)\n",
        "df['Publisher'] = df['mean_value_publisher'].round(2)\n",
        "df['Global_Sales'] = df['Global_Sales'].round(2)"
      ],
      "metadata": {
        "id": "c8g1zjFo5YCR"
      },
      "execution_count": 24,
      "outputs": []
    },
    {
      "cell_type": "markdown",
      "source": [
        "Agora, removemos todas as colunas não necessárias para a análise da IA. Desta forma, nosso arquivo final de extensão .csv já estará completamente pronto para ser utilizado nos métodos de previsão."
      ],
      "metadata": {
        "id": "zlBvrnHR5kz2"
      }
    },
    {
      "cell_type": "code",
      "source": [
        "# Drop the 'mean_value' columns and any other column which will not be used on the AI analysis\n",
        "df = df.drop(columns=['mean_value_platform', 'Unnamed: 0', 'Unnamed: 1', 'Unnamed: 2', 'Name',\n",
        "                      'NA_Sales', 'EU_Sales', 'JP_Sales', 'Other_Sales', 'mean_value_genre', 'mean_value_publisher'])\n",
        "\n",
        "# Print the result\n",
        "df.to_csv('DataSet Games.csv', index=False)"
      ],
      "metadata": {
        "id": "HgeEC4tB5a_j"
      },
      "execution_count": 25,
      "outputs": []
    },
    {
      "cell_type": "markdown",
      "source": [
        "Temos então o código que formátara todo o arquivo .xslx e o transformará em .csv, além de deixa-lo pronto para uso."
      ],
      "metadata": {
        "id": "78p9C4wPCAtf"
      }
    }
  ]
}
